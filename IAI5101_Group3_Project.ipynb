{
  "cells": [
    {
      "cell_type": "markdown",
      "metadata": {
        "id": "tXz5afYnv0Ax"
      },
      "source": [
        "## IAI5101 Project - Group 3"
      ]
    },
    {
      "cell_type": "code",
      "execution_count": null,
      "metadata": {
        "id": "OmD9Sk6I2xH2"
      },
      "outputs": [],
      "source": [
        "import pandas as pd\n",
        "import numpy as np\n",
        "import sklearn\n",
        "import seaborn as sns\n",
        "import matplotlib\n",
        "import matplotlib.pyplot as plt"
      ]
    },
    {
      "cell_type": "code",
      "execution_count": null,
      "metadata": {
        "colab": {
          "base_uri": "https://localhost:8080/",
          "height": 206
        },
        "id": "jSfEQV6kMYjY",
        "outputId": "8f023133-86c6-40fe-f696-937f2dfcde8c"
      },
      "outputs": [
        {
          "data": {
            "text/html": [
              "\n",
              "  <div id=\"df-6eee1ef7-ce3e-4f02-9489-3cd648c94d2f\">\n",
              "    <div class=\"colab-df-container\">\n",
              "      <div>\n",
              "<style scoped>\n",
              "    .dataframe tbody tr th:only-of-type {\n",
              "        vertical-align: middle;\n",
              "    }\n",
              "\n",
              "    .dataframe tbody tr th {\n",
              "        vertical-align: top;\n",
              "    }\n",
              "\n",
              "    .dataframe thead th {\n",
              "        text-align: right;\n",
              "    }\n",
              "</style>\n",
              "<table border=\"1\" class=\"dataframe\">\n",
              "  <thead>\n",
              "    <tr style=\"text-align: right;\">\n",
              "      <th></th>\n",
              "      <th>PinOut_1</th>\n",
              "      <th>PinOut_2</th>\n",
              "      <th>Voltage_1</th>\n",
              "      <th>Voltage_2</th>\n",
              "      <th>P_x</th>\n",
              "      <th>P_y</th>\n",
              "      <th>S1</th>\n",
              "      <th>dS1_dV</th>\n",
              "      <th>dPx_dV</th>\n",
              "      <th>dPy_dV</th>\n",
              "      <th>Mode_Locked</th>\n",
              "      <th>S1_MLd</th>\n",
              "    </tr>\n",
              "  </thead>\n",
              "  <tbody>\n",
              "    <tr>\n",
              "      <th>5095</th>\n",
              "      <td>221</td>\n",
              "      <td>249</td>\n",
              "      <td>4.333333</td>\n",
              "      <td>4.882353</td>\n",
              "      <td>44</td>\n",
              "      <td>31</td>\n",
              "      <td>0.1733</td>\n",
              "      <td>0.0304</td>\n",
              "      <td>-4.0</td>\n",
              "      <td>-5.0</td>\n",
              "      <td>0.0</td>\n",
              "      <td>NaN</td>\n",
              "    </tr>\n",
              "    <tr>\n",
              "      <th>5096</th>\n",
              "      <td>221</td>\n",
              "      <td>250</td>\n",
              "      <td>4.333333</td>\n",
              "      <td>4.901961</td>\n",
              "      <td>54</td>\n",
              "      <td>37</td>\n",
              "      <td>0.1868</td>\n",
              "      <td>0.0135</td>\n",
              "      <td>10.0</td>\n",
              "      <td>6.0</td>\n",
              "      <td>0.0</td>\n",
              "      <td>NaN</td>\n",
              "    </tr>\n",
              "    <tr>\n",
              "      <th>5097</th>\n",
              "      <td>221</td>\n",
              "      <td>251</td>\n",
              "      <td>4.333333</td>\n",
              "      <td>4.921569</td>\n",
              "      <td>50</td>\n",
              "      <td>34</td>\n",
              "      <td>0.1905</td>\n",
              "      <td>0.0037</td>\n",
              "      <td>-4.0</td>\n",
              "      <td>-3.0</td>\n",
              "      <td>0.0</td>\n",
              "      <td>NaN</td>\n",
              "    </tr>\n",
              "    <tr>\n",
              "      <th>5098</th>\n",
              "      <td>221</td>\n",
              "      <td>252</td>\n",
              "      <td>4.333333</td>\n",
              "      <td>4.941176</td>\n",
              "      <td>41</td>\n",
              "      <td>25</td>\n",
              "      <td>0.2424</td>\n",
              "      <td>0.0519</td>\n",
              "      <td>-9.0</td>\n",
              "      <td>-9.0</td>\n",
              "      <td>0.0</td>\n",
              "      <td>NaN</td>\n",
              "    </tr>\n",
              "    <tr>\n",
              "      <th>5099</th>\n",
              "      <td>221</td>\n",
              "      <td>253</td>\n",
              "      <td>4.333333</td>\n",
              "      <td>4.960784</td>\n",
              "      <td>39</td>\n",
              "      <td>26</td>\n",
              "      <td>0.2000</td>\n",
              "      <td>-0.0424</td>\n",
              "      <td>-2.0</td>\n",
              "      <td>1.0</td>\n",
              "      <td>0.0</td>\n",
              "      <td>NaN</td>\n",
              "    </tr>\n",
              "  </tbody>\n",
              "</table>\n",
              "</div>\n",
              "      <button class=\"colab-df-convert\" onclick=\"convertToInteractive('df-6eee1ef7-ce3e-4f02-9489-3cd648c94d2f')\"\n",
              "              title=\"Convert this dataframe to an interactive table.\"\n",
              "              style=\"display:none;\">\n",
              "        \n",
              "  <svg xmlns=\"http://www.w3.org/2000/svg\" height=\"24px\"viewBox=\"0 0 24 24\"\n",
              "       width=\"24px\">\n",
              "    <path d=\"M0 0h24v24H0V0z\" fill=\"none\"/>\n",
              "    <path d=\"M18.56 5.44l.94 2.06.94-2.06 2.06-.94-2.06-.94-.94-2.06-.94 2.06-2.06.94zm-11 1L8.5 8.5l.94-2.06 2.06-.94-2.06-.94L8.5 2.5l-.94 2.06-2.06.94zm10 10l.94 2.06.94-2.06 2.06-.94-2.06-.94-.94-2.06-.94 2.06-2.06.94z\"/><path d=\"M17.41 7.96l-1.37-1.37c-.4-.4-.92-.59-1.43-.59-.52 0-1.04.2-1.43.59L10.3 9.45l-7.72 7.72c-.78.78-.78 2.05 0 2.83L4 21.41c.39.39.9.59 1.41.59.51 0 1.02-.2 1.41-.59l7.78-7.78 2.81-2.81c.8-.78.8-2.07 0-2.86zM5.41 20L4 18.59l7.72-7.72 1.47 1.35L5.41 20z\"/>\n",
              "  </svg>\n",
              "      </button>\n",
              "      \n",
              "  <style>\n",
              "    .colab-df-container {\n",
              "      display:flex;\n",
              "      flex-wrap:wrap;\n",
              "      gap: 12px;\n",
              "    }\n",
              "\n",
              "    .colab-df-convert {\n",
              "      background-color: #E8F0FE;\n",
              "      border: none;\n",
              "      border-radius: 50%;\n",
              "      cursor: pointer;\n",
              "      display: none;\n",
              "      fill: #1967D2;\n",
              "      height: 32px;\n",
              "      padding: 0 0 0 0;\n",
              "      width: 32px;\n",
              "    }\n",
              "\n",
              "    .colab-df-convert:hover {\n",
              "      background-color: #E2EBFA;\n",
              "      box-shadow: 0px 1px 2px rgba(60, 64, 67, 0.3), 0px 1px 3px 1px rgba(60, 64, 67, 0.15);\n",
              "      fill: #174EA6;\n",
              "    }\n",
              "\n",
              "    [theme=dark] .colab-df-convert {\n",
              "      background-color: #3B4455;\n",
              "      fill: #D2E3FC;\n",
              "    }\n",
              "\n",
              "    [theme=dark] .colab-df-convert:hover {\n",
              "      background-color: #434B5C;\n",
              "      box-shadow: 0px 1px 3px 1px rgba(0, 0, 0, 0.15);\n",
              "      filter: drop-shadow(0px 1px 2px rgba(0, 0, 0, 0.3));\n",
              "      fill: #FFFFFF;\n",
              "    }\n",
              "  </style>\n",
              "\n",
              "      <script>\n",
              "        const buttonEl =\n",
              "          document.querySelector('#df-6eee1ef7-ce3e-4f02-9489-3cd648c94d2f button.colab-df-convert');\n",
              "        buttonEl.style.display =\n",
              "          google.colab.kernel.accessAllowed ? 'block' : 'none';\n",
              "\n",
              "        async function convertToInteractive(key) {\n",
              "          const element = document.querySelector('#df-6eee1ef7-ce3e-4f02-9489-3cd648c94d2f');\n",
              "          const dataTable =\n",
              "            await google.colab.kernel.invokeFunction('convertToInteractive',\n",
              "                                                     [key], {});\n",
              "          if (!dataTable) return;\n",
              "\n",
              "          const docLinkHtml = 'Like what you see? Visit the ' +\n",
              "            '<a target=\"_blank\" href=https://colab.research.google.com/notebooks/data_table.ipynb>data table notebook</a>'\n",
              "            + ' to learn more about interactive tables.';\n",
              "          element.innerHTML = '';\n",
              "          dataTable['output_type'] = 'display_data';\n",
              "          await google.colab.output.renderOutput(dataTable, element);\n",
              "          const docLink = document.createElement('div');\n",
              "          docLink.innerHTML = docLinkHtml;\n",
              "          element.appendChild(docLink);\n",
              "        }\n",
              "      </script>\n",
              "    </div>\n",
              "  </div>\n",
              "  "
            ],
            "text/plain": [
              "      PinOut_1  PinOut_2  Voltage_1  Voltage_2  P_x  P_y      S1  dS1_dV  \\\n",
              "5095       221       249   4.333333   4.882353   44   31  0.1733  0.0304   \n",
              "5096       221       250   4.333333   4.901961   54   37  0.1868  0.0135   \n",
              "5097       221       251   4.333333   4.921569   50   34  0.1905  0.0037   \n",
              "5098       221       252   4.333333   4.941176   41   25  0.2424  0.0519   \n",
              "5099       221       253   4.333333   4.960784   39   26  0.2000 -0.0424   \n",
              "\n",
              "      dPx_dV  dPy_dV  Mode_Locked  S1_MLd  \n",
              "5095    -4.0    -5.0          0.0     NaN  \n",
              "5096    10.0     6.0          0.0     NaN  \n",
              "5097    -4.0    -3.0          0.0     NaN  \n",
              "5098    -9.0    -9.0          0.0     NaN  \n",
              "5099    -2.0     1.0          0.0     NaN  "
            ]
          },
          "execution_count": 4,
          "metadata": {},
          "output_type": "execute_result"
        }
      ],
      "source": [
        "df = pd.read_csv(\"https://raw.githubusercontent.com/strem078/IAI5101_Project/main/Data/Data_Raw.csv\")\n",
        "df.tail()"
      ]
    },
    {
      "cell_type": "code",
      "execution_count": null,
      "metadata": {
        "colab": {
          "base_uri": "https://localhost:8080/",
          "height": 423
        },
        "id": "RKtcm_wB4WIX",
        "outputId": "f3b55a8a-f1a6-4ace-fc6b-071e147e4c7d"
      },
      "outputs": [
        {
          "data": {
            "text/html": [
              "\n",
              "  <div id=\"df-2142f33f-ae42-4388-98e2-9c6e3d4cb523\">\n",
              "    <div class=\"colab-df-container\">\n",
              "      <div>\n",
              "<style scoped>\n",
              "    .dataframe tbody tr th:only-of-type {\n",
              "        vertical-align: middle;\n",
              "    }\n",
              "\n",
              "    .dataframe tbody tr th {\n",
              "        vertical-align: top;\n",
              "    }\n",
              "\n",
              "    .dataframe thead th {\n",
              "        text-align: right;\n",
              "    }\n",
              "</style>\n",
              "<table border=\"1\" class=\"dataframe\">\n",
              "  <thead>\n",
              "    <tr style=\"text-align: right;\">\n",
              "      <th></th>\n",
              "      <th>PinOut_1</th>\n",
              "      <th>PinOut_2</th>\n",
              "      <th>Voltage_1</th>\n",
              "      <th>Voltage_2</th>\n",
              "      <th>P_x</th>\n",
              "      <th>P_y</th>\n",
              "      <th>S1</th>\n",
              "      <th>dS1_dV</th>\n",
              "      <th>dPx_dV</th>\n",
              "      <th>dPy_dV</th>\n",
              "      <th>Mode_Locked</th>\n",
              "      <th>S1_MLd</th>\n",
              "    </tr>\n",
              "  </thead>\n",
              "  <tbody>\n",
              "    <tr>\n",
              "      <th>0</th>\n",
              "      <td>0</td>\n",
              "      <td>0</td>\n",
              "      <td>0.000000</td>\n",
              "      <td>0.000000</td>\n",
              "      <td>0.148926</td>\n",
              "      <td>0.078125</td>\n",
              "      <td>0.65590</td>\n",
              "      <td>0.50000</td>\n",
              "      <td>0.000000</td>\n",
              "      <td>0.000000</td>\n",
              "      <td>0.0</td>\n",
              "      <td>0.0</td>\n",
              "    </tr>\n",
              "    <tr>\n",
              "      <th>1</th>\n",
              "      <td>220</td>\n",
              "      <td>0</td>\n",
              "      <td>0.862745</td>\n",
              "      <td>0.000000</td>\n",
              "      <td>0.151367</td>\n",
              "      <td>0.083008</td>\n",
              "      <td>0.64585</td>\n",
              "      <td>0.51005</td>\n",
              "      <td>-0.002441</td>\n",
              "      <td>-0.004883</td>\n",
              "      <td>0.0</td>\n",
              "      <td>0.0</td>\n",
              "    </tr>\n",
              "    <tr>\n",
              "      <th>2</th>\n",
              "      <td>220</td>\n",
              "      <td>1</td>\n",
              "      <td>0.862745</td>\n",
              "      <td>0.003922</td>\n",
              "      <td>0.148926</td>\n",
              "      <td>0.109863</td>\n",
              "      <td>0.57545</td>\n",
              "      <td>0.57040</td>\n",
              "      <td>0.002441</td>\n",
              "      <td>-0.026855</td>\n",
              "      <td>0.0</td>\n",
              "      <td>0.0</td>\n",
              "    </tr>\n",
              "    <tr>\n",
              "      <th>3</th>\n",
              "      <td>220</td>\n",
              "      <td>2</td>\n",
              "      <td>0.862745</td>\n",
              "      <td>0.007843</td>\n",
              "      <td>0.153809</td>\n",
              "      <td>0.087891</td>\n",
              "      <td>0.63635</td>\n",
              "      <td>0.43910</td>\n",
              "      <td>-0.004883</td>\n",
              "      <td>0.021973</td>\n",
              "      <td>0.0</td>\n",
              "      <td>0.0</td>\n",
              "    </tr>\n",
              "    <tr>\n",
              "      <th>4</th>\n",
              "      <td>220</td>\n",
              "      <td>3</td>\n",
              "      <td>0.862745</td>\n",
              "      <td>0.011765</td>\n",
              "      <td>0.156250</td>\n",
              "      <td>0.109863</td>\n",
              "      <td>0.58715</td>\n",
              "      <td>0.54920</td>\n",
              "      <td>-0.002441</td>\n",
              "      <td>-0.021973</td>\n",
              "      <td>0.0</td>\n",
              "      <td>0.0</td>\n",
              "    </tr>\n",
              "    <tr>\n",
              "      <th>...</th>\n",
              "      <td>...</td>\n",
              "      <td>...</td>\n",
              "      <td>...</td>\n",
              "      <td>...</td>\n",
              "      <td>...</td>\n",
              "      <td>...</td>\n",
              "      <td>...</td>\n",
              "      <td>...</td>\n",
              "      <td>...</td>\n",
              "      <td>...</td>\n",
              "      <td>...</td>\n",
              "      <td>...</td>\n",
              "    </tr>\n",
              "    <tr>\n",
              "      <th>5095</th>\n",
              "      <td>221</td>\n",
              "      <td>249</td>\n",
              "      <td>0.866667</td>\n",
              "      <td>0.976471</td>\n",
              "      <td>0.107422</td>\n",
              "      <td>0.075684</td>\n",
              "      <td>0.58665</td>\n",
              "      <td>0.51520</td>\n",
              "      <td>-0.009766</td>\n",
              "      <td>-0.012207</td>\n",
              "      <td>0.0</td>\n",
              "      <td>0.0</td>\n",
              "    </tr>\n",
              "    <tr>\n",
              "      <th>5096</th>\n",
              "      <td>221</td>\n",
              "      <td>250</td>\n",
              "      <td>0.866667</td>\n",
              "      <td>0.980392</td>\n",
              "      <td>0.131836</td>\n",
              "      <td>0.090332</td>\n",
              "      <td>0.59340</td>\n",
              "      <td>0.50675</td>\n",
              "      <td>0.024414</td>\n",
              "      <td>0.014648</td>\n",
              "      <td>0.0</td>\n",
              "      <td>0.0</td>\n",
              "    </tr>\n",
              "    <tr>\n",
              "      <th>5097</th>\n",
              "      <td>221</td>\n",
              "      <td>251</td>\n",
              "      <td>0.866667</td>\n",
              "      <td>0.984314</td>\n",
              "      <td>0.122070</td>\n",
              "      <td>0.083008</td>\n",
              "      <td>0.59525</td>\n",
              "      <td>0.50185</td>\n",
              "      <td>-0.009766</td>\n",
              "      <td>-0.007324</td>\n",
              "      <td>0.0</td>\n",
              "      <td>0.0</td>\n",
              "    </tr>\n",
              "    <tr>\n",
              "      <th>5098</th>\n",
              "      <td>221</td>\n",
              "      <td>252</td>\n",
              "      <td>0.866667</td>\n",
              "      <td>0.988235</td>\n",
              "      <td>0.100098</td>\n",
              "      <td>0.061035</td>\n",
              "      <td>0.62120</td>\n",
              "      <td>0.52595</td>\n",
              "      <td>-0.021973</td>\n",
              "      <td>-0.021973</td>\n",
              "      <td>0.0</td>\n",
              "      <td>0.0</td>\n",
              "    </tr>\n",
              "    <tr>\n",
              "      <th>5099</th>\n",
              "      <td>221</td>\n",
              "      <td>253</td>\n",
              "      <td>0.866667</td>\n",
              "      <td>0.992157</td>\n",
              "      <td>0.095215</td>\n",
              "      <td>0.063477</td>\n",
              "      <td>0.60000</td>\n",
              "      <td>0.47880</td>\n",
              "      <td>-0.004883</td>\n",
              "      <td>0.002441</td>\n",
              "      <td>0.0</td>\n",
              "      <td>0.0</td>\n",
              "    </tr>\n",
              "  </tbody>\n",
              "</table>\n",
              "<p>5100 rows × 12 columns</p>\n",
              "</div>\n",
              "      <button class=\"colab-df-convert\" onclick=\"convertToInteractive('df-2142f33f-ae42-4388-98e2-9c6e3d4cb523')\"\n",
              "              title=\"Convert this dataframe to an interactive table.\"\n",
              "              style=\"display:none;\">\n",
              "        \n",
              "  <svg xmlns=\"http://www.w3.org/2000/svg\" height=\"24px\"viewBox=\"0 0 24 24\"\n",
              "       width=\"24px\">\n",
              "    <path d=\"M0 0h24v24H0V0z\" fill=\"none\"/>\n",
              "    <path d=\"M18.56 5.44l.94 2.06.94-2.06 2.06-.94-2.06-.94-.94-2.06-.94 2.06-2.06.94zm-11 1L8.5 8.5l.94-2.06 2.06-.94-2.06-.94L8.5 2.5l-.94 2.06-2.06.94zm10 10l.94 2.06.94-2.06 2.06-.94-2.06-.94-.94-2.06-.94 2.06-2.06.94z\"/><path d=\"M17.41 7.96l-1.37-1.37c-.4-.4-.92-.59-1.43-.59-.52 0-1.04.2-1.43.59L10.3 9.45l-7.72 7.72c-.78.78-.78 2.05 0 2.83L4 21.41c.39.39.9.59 1.41.59.51 0 1.02-.2 1.41-.59l7.78-7.78 2.81-2.81c.8-.78.8-2.07 0-2.86zM5.41 20L4 18.59l7.72-7.72 1.47 1.35L5.41 20z\"/>\n",
              "  </svg>\n",
              "      </button>\n",
              "      \n",
              "  <style>\n",
              "    .colab-df-container {\n",
              "      display:flex;\n",
              "      flex-wrap:wrap;\n",
              "      gap: 12px;\n",
              "    }\n",
              "\n",
              "    .colab-df-convert {\n",
              "      background-color: #E8F0FE;\n",
              "      border: none;\n",
              "      border-radius: 50%;\n",
              "      cursor: pointer;\n",
              "      display: none;\n",
              "      fill: #1967D2;\n",
              "      height: 32px;\n",
              "      padding: 0 0 0 0;\n",
              "      width: 32px;\n",
              "    }\n",
              "\n",
              "    .colab-df-convert:hover {\n",
              "      background-color: #E2EBFA;\n",
              "      box-shadow: 0px 1px 2px rgba(60, 64, 67, 0.3), 0px 1px 3px 1px rgba(60, 64, 67, 0.15);\n",
              "      fill: #174EA6;\n",
              "    }\n",
              "\n",
              "    [theme=dark] .colab-df-convert {\n",
              "      background-color: #3B4455;\n",
              "      fill: #D2E3FC;\n",
              "    }\n",
              "\n",
              "    [theme=dark] .colab-df-convert:hover {\n",
              "      background-color: #434B5C;\n",
              "      box-shadow: 0px 1px 3px 1px rgba(0, 0, 0, 0.15);\n",
              "      filter: drop-shadow(0px 1px 2px rgba(0, 0, 0, 0.3));\n",
              "      fill: #FFFFFF;\n",
              "    }\n",
              "  </style>\n",
              "\n",
              "      <script>\n",
              "        const buttonEl =\n",
              "          document.querySelector('#df-2142f33f-ae42-4388-98e2-9c6e3d4cb523 button.colab-df-convert');\n",
              "        buttonEl.style.display =\n",
              "          google.colab.kernel.accessAllowed ? 'block' : 'none';\n",
              "\n",
              "        async function convertToInteractive(key) {\n",
              "          const element = document.querySelector('#df-2142f33f-ae42-4388-98e2-9c6e3d4cb523');\n",
              "          const dataTable =\n",
              "            await google.colab.kernel.invokeFunction('convertToInteractive',\n",
              "                                                     [key], {});\n",
              "          if (!dataTable) return;\n",
              "\n",
              "          const docLinkHtml = 'Like what you see? Visit the ' +\n",
              "            '<a target=\"_blank\" href=https://colab.research.google.com/notebooks/data_table.ipynb>data table notebook</a>'\n",
              "            + ' to learn more about interactive tables.';\n",
              "          element.innerHTML = '';\n",
              "          dataTable['output_type'] = 'display_data';\n",
              "          await google.colab.output.renderOutput(dataTable, element);\n",
              "          const docLink = document.createElement('div');\n",
              "          docLink.innerHTML = docLinkHtml;\n",
              "          element.appendChild(docLink);\n",
              "        }\n",
              "      </script>\n",
              "    </div>\n",
              "  </div>\n",
              "  "
            ],
            "text/plain": [
              "      PinOut_1  PinOut_2  Voltage_1  Voltage_2       P_x       P_y       S1  \\\n",
              "0            0         0   0.000000   0.000000  0.148926  0.078125  0.65590   \n",
              "1          220         0   0.862745   0.000000  0.151367  0.083008  0.64585   \n",
              "2          220         1   0.862745   0.003922  0.148926  0.109863  0.57545   \n",
              "3          220         2   0.862745   0.007843  0.153809  0.087891  0.63635   \n",
              "4          220         3   0.862745   0.011765  0.156250  0.109863  0.58715   \n",
              "...        ...       ...        ...        ...       ...       ...      ...   \n",
              "5095       221       249   0.866667   0.976471  0.107422  0.075684  0.58665   \n",
              "5096       221       250   0.866667   0.980392  0.131836  0.090332  0.59340   \n",
              "5097       221       251   0.866667   0.984314  0.122070  0.083008  0.59525   \n",
              "5098       221       252   0.866667   0.988235  0.100098  0.061035  0.62120   \n",
              "5099       221       253   0.866667   0.992157  0.095215  0.063477  0.60000   \n",
              "\n",
              "       dS1_dV    dPx_dV    dPy_dV  Mode_Locked  S1_MLd  \n",
              "0     0.50000  0.000000  0.000000          0.0     0.0  \n",
              "1     0.51005 -0.002441 -0.004883          0.0     0.0  \n",
              "2     0.57040  0.002441 -0.026855          0.0     0.0  \n",
              "3     0.43910 -0.004883  0.021973          0.0     0.0  \n",
              "4     0.54920 -0.002441 -0.021973          0.0     0.0  \n",
              "...       ...       ...       ...          ...     ...  \n",
              "5095  0.51520 -0.009766 -0.012207          0.0     0.0  \n",
              "5096  0.50675  0.024414  0.014648          0.0     0.0  \n",
              "5097  0.50185 -0.009766 -0.007324          0.0     0.0  \n",
              "5098  0.52595 -0.021973 -0.021973          0.0     0.0  \n",
              "5099  0.47880 -0.004883  0.002441          0.0     0.0  \n",
              "\n",
              "[5100 rows x 12 columns]"
            ]
          },
          "execution_count": 5,
          "metadata": {},
          "output_type": "execute_result"
        }
      ],
      "source": [
        "# Preprocessing steps\n",
        "df.fillna(0,inplace=True)\n",
        "df['Voltage_1'] = df['Voltage_1']/5.0\n",
        "df['Voltage_2'] = df['Voltage_2']/5.0\n",
        "df['P_x'] = df['P_x']/(2.0/5.0*1024)\n",
        "df['P_y'] = df['P_y']/(2.0/5.0*1024)\n",
        "df['dPx_dV'] = df['dPx_dV']/(2.0/5.0*1024)\n",
        "df['dPy_dV'] = df['dPy_dV']/(2.0/5.0*1024)\n",
        "df['S1'] = (df['S1']+1)/2\n",
        "df['dS1_dV'] = (df['dS1_dV']+1)/2\n",
        "df"
      ]
    },
    {
      "cell_type": "markdown",
      "metadata": {
        "id": "pVN9qOai65X1"
      },
      "source": [
        "### Naive Bayes"
      ]
    },
    {
      "cell_type": "code",
      "execution_count": null,
      "metadata": {
        "colab": {
          "base_uri": "https://localhost:8080/"
        },
        "id": "ODOSGVGJ10vw",
        "outputId": "53ab3dd9-b075-45a9-a734-a6d147f50235"
      },
      "outputs": [
        {
          "name": "stdout",
          "output_type": "stream",
          "text": [
            "The accuracy of the Bernoulli Naive Bayes model is 97.32 %\n",
            "The recall score of the Bernoulli Naive Bayes model is 0.00 %\n",
            "The F_1 score of the Bernoulli Naive Bayes model is 0.00 %\n"
          ]
        },
        {
          "name": "stderr",
          "output_type": "stream",
          "text": [
            "/usr/local/lib/python3.7/dist-packages/sklearn/metrics/_classification.py:1318: UndefinedMetricWarning: Recall is ill-defined and being set to 0.0 due to no true samples. Use `zero_division` parameter to control this behavior.\n",
            "  _warn_prf(average, modifier, msg_start, len(result))\n"
          ]
        }
      ],
      "source": [
        "from sklearn.naive_bayes import BernoulliNB\n",
        "from sklearn.model_selection import train_test_split\n",
        "from sklearn import metrics\n",
        "\n",
        "x = df[df.columns[2:-4]]\n",
        "y = df[\"Mode_Locked\"]\n",
        "\n",
        "x_train, x_test, y_train, y_test = train_test_split(x, y, test_size=0.3, random_state=20)\n",
        "\n",
        "naive_bayes_bern = BernoulliNB()\n",
        "\n",
        "naive_bayes_bern.fit(x_train, y_train)\n",
        " \n",
        "y_predicted_bern = naive_bayes_bern.predict(x_test)\n",
        "\n",
        "print(\"The accuracy of the Bernoulli Naive Bayes model is {:.2f}\".format(metrics.accuracy_score(y_predicted_bern, y_test)*100),\"%\")\n",
        "print(\"The recall score of the Bernoulli Naive Bayes model is {:.2f}\".format(metrics.recall_score(y_predicted_bern, y_test)*100),\"%\")\n",
        "print(\"The F_1 score of the Bernoulli Naive Bayes model is {:.2f}\".format(metrics.fbeta_score(y_predicted_bern, y_test, beta=1)*100),\"%\")\n"
      ]
    },
    {
      "cell_type": "code",
      "execution_count": null,
      "metadata": {
        "colab": {
          "base_uri": "https://localhost:8080/"
        },
        "id": "3x4VuoSKCGOI",
        "outputId": "ea818d5f-56a7-4174-c2d3-76eaf7c8132d"
      },
      "outputs": [
        {
          "name": "stdout",
          "output_type": "stream",
          "text": [
            "The accuracy of the Gaussian Naive Bayes Model is 96.01 %\n",
            "The recall score of the Gaussian Naive Bayes Model is 36.11 %\n",
            "The F_1 of the Gaussian Naive Bayes Model is 46.02 %\n"
          ]
        }
      ],
      "source": [
        "from sklearn.naive_bayes import GaussianNB\n",
        "from sklearn import metrics\n",
        "\n",
        "naive_bayes = GaussianNB()\n",
        "\n",
        "naive_bayes.fit(x_train, y_train)\n",
        " \n",
        "y_predicted = naive_bayes.predict(x_test)\n",
        "\n",
        "print(\"The accuracy of the Gaussian Naive Bayes Model is {:.2f}\".format(metrics.accuracy_score(y_predicted , y_test)*100),\"%\")\n",
        "print(\"The recall score of the Gaussian Naive Bayes Model is {:.2f}\".format(metrics.recall_score(y_predicted , y_test)*100),\"%\")\n",
        "print(\"The F_1 of the Gaussian Naive Bayes Model is {:.2f}\".format(metrics.f1_score(y_predicted , y_test)*100),\"%\")"
      ]
    },
    {
      "cell_type": "markdown",
      "metadata": {
        "id": "GcZ32qVq68un"
      },
      "source": [
        "### SVC"
      ]
    },
    {
      "cell_type": "code",
      "execution_count": null,
      "metadata": {
        "id": "4h4VUElsHhr5"
      },
      "outputs": [],
      "source": [
        "from sklearn.svm import SVC\n",
        "from sklearn.preprocessing import StandardScaler\n",
        "from sklearn.model_selection import cross_val_score\n",
        "from sklearn.metrics import classification_report,confusion_matrix\n",
        "from sklearn.metrics import f1_score, precision_score, recall_score\n",
        "import seaborn as sn"
      ]
    },
    {
      "cell_type": "code",
      "execution_count": null,
      "metadata": {
        "id": "gwCi-T0CeIE3"
      },
      "outputs": [],
      "source": [
        "xx_train, xx_test, yy_train, yy_test = train_test_split(x, y, test_size=0.3, random_state=0)"
      ]
    },
    {
      "cell_type": "code",
      "execution_count": null,
      "metadata": {
        "id": "aGrqcqc4Hsg6"
      },
      "outputs": [],
      "source": [
        "# sc = StandardScaler()\n",
        "# sc.fit(xx_train)\n",
        "# x_train_std = sc.transform(xx_train)\n",
        "# x_test_std = sc.transform(xx_test)\n",
        "x_train_std = xx_train\n",
        "x_test_std = xx_test"
      ]
    },
    {
      "cell_type": "code",
      "execution_count": null,
      "metadata": {
        "colab": {
          "base_uri": "https://localhost:8080/",
          "height": 781
        },
        "id": "YJ8NSXT9ZQsz",
        "outputId": "6a8ba4eb-294a-4145-bdfb-b2aa93ea9b10"
      },
      "outputs": [
        {
          "name": "stderr",
          "output_type": "stream",
          "text": [
            "/usr/local/lib/python3.7/dist-packages/sklearn/metrics/_classification.py:1318: UndefinedMetricWarning: Precision and F-score are ill-defined and being set to 0.0 in labels with no predicted samples. Use `zero_division` parameter to control this behavior.\n",
            "  _warn_prf(average, modifier, msg_start, len(result))\n",
            "/usr/local/lib/python3.7/dist-packages/sklearn/metrics/_classification.py:1318: UndefinedMetricWarning: Precision and F-score are ill-defined and being set to 0.0 in labels with no predicted samples. Use `zero_division` parameter to control this behavior.\n",
            "  _warn_prf(average, modifier, msg_start, len(result))\n",
            "/usr/local/lib/python3.7/dist-packages/sklearn/metrics/_classification.py:1318: UndefinedMetricWarning: Precision and F-score are ill-defined and being set to 0.0 in labels with no predicted samples. Use `zero_division` parameter to control this behavior.\n",
            "  _warn_prf(average, modifier, msg_start, len(result))\n",
            "/usr/local/lib/python3.7/dist-packages/sklearn/metrics/_classification.py:1318: UndefinedMetricWarning: Precision is ill-defined and being set to 0.0 due to no predicted samples. Use `zero_division` parameter to control this behavior.\n",
            "  _warn_prf(average, modifier, msg_start, len(result))\n"
          ]
        },
        {
          "name": "stdout",
          "output_type": "stream",
          "text": [
            "SVM classification Report:\n",
            "               precision    recall  f1-score   support\n",
            "\n",
            "         0.0       0.98      1.00      0.99      1496\n",
            "         1.0       0.00      0.00      0.00        34\n",
            "\n",
            "    accuracy                           0.98      1530\n",
            "   macro avg       0.49      0.50      0.49      1530\n",
            "weighted avg       0.96      0.98      0.97      1530\n",
            "\n",
            "\n",
            " F1:\n",
            " 0.0\n",
            "\n",
            " Precision score is:\n",
            " 0.0\n",
            "\n",
            " Recall score is:\n",
            " 0.0\n"
          ]
        },
        {
          "data": {
            "text/plain": [
              "<matplotlib.axes._subplots.AxesSubplot at 0x7f3fb3810fd0>"
            ]
          },
          "execution_count": 11,
          "metadata": {},
          "output_type": "execute_result"
        },
        {
          "data": {
            "image/png": "[encoded data removed]",
            "text/plain": [
              "<Figure size 432x288 with 2 Axes>"
            ]
          },
          "metadata": {
            "needs_background": "light"
          },
          "output_type": "display_data"
        }
      ],
      "source": [
        "svm = SVC(kernel='rbf', random_state=0, gamma=.10, C=1.0)\n",
        "svm_pred = svm.fit(x_train_std, yy_train)\n",
        "svm_pred = svm_pred.predict(x_test_std)\n",
        "\n",
        "print(\"SVM classification Report:\\n\", classification_report(yy_test, svm_pred))\n",
        "print(\"\\n F1:\\n\", f1_score(yy_test, svm_pred))\n",
        "print(\"\\n Precision score is:\\n\", precision_score(yy_test, svm_pred))\n",
        "print(\"\\n Recall score is:\\n\", recall_score(yy_test, svm_pred))\n",
        "sn.heatmap(confusion_matrix(yy_test, svm_pred))"
      ]
    },
    {
      "cell_type": "markdown",
      "metadata": {
        "id": "Q61Qq1RjZcGk"
      },
      "source": [
        "### k-NN"
      ]
    },
    {
      "cell_type": "code",
      "execution_count": null,
      "metadata": {
        "colab": {
          "base_uri": "https://localhost:8080/",
          "height": 654
        },
        "id": "DvMyxC-4ZbK1",
        "outputId": "7ec21b2d-4ee1-4a2e-8db3-94413ce64e3d"
      },
      "outputs": [
        {
          "name": "stdout",
          "output_type": "stream",
          "text": [
            "The accuracy of the Knn classifier on training data is 98.29 %\n",
            "The accuracy of the Knn classifier on test data is 98.24 %\n",
            "k-NN classification Report:\n",
            "               precision    recall  f1-score   support\n",
            "\n",
            "         0.0       0.98      1.00      0.99      1496\n",
            "         1.0       0.77      0.29      0.43        34\n",
            "\n",
            "    accuracy                           0.98      1530\n",
            "   macro avg       0.88      0.65      0.71      1530\n",
            "weighted avg       0.98      0.98      0.98      1530\n",
            "\n",
            "\n",
            " F1:\n",
            " 0.4255319148936171\n",
            "\n",
            " Precision score is:\n",
            " 0.7692307692307693\n",
            "\n",
            " Recall score is:\n",
            " 0.29411764705882354\n"
          ]
        },
        {
          "data": {
            "text/plain": [
              "<matplotlib.axes._subplots.AxesSubplot at 0x7f3fb246d650>"
            ]
          },
          "execution_count": 12,
          "metadata": {},
          "output_type": "execute_result"
        },
        {
          "data": {
            "image/png": "[encoded data removed]",
            "text/plain": [
              "<Figure size 432x288 with 2 Axes>"
            ]
          },
          "metadata": {
            "needs_background": "light"
          },
          "output_type": "display_data"
        }
      ],
      "source": [
        "from sklearn.neighbors import KNeighborsClassifier\n",
        "\n",
        "knn = KNeighborsClassifier(n_neighbors = 7, p = 2, metric='minkowski')\n",
        "knn_pred = knn.fit(x_train_std, yy_train)\n",
        "knn_pred = knn_pred.predict(x_test_std)\n",
        "\n",
        "print('The accuracy of the Knn classifier on training data is {:.2f}'.format(knn.score(x_train_std, yy_train)*100),\"%\")\n",
        "print('The accuracy of the Knn classifier on test data is {:.2f}'.format(knn.score(x_test_std, yy_test)*100),\"%\")\n",
        "\n",
        "print(\"k-NN classification Report:\\n\", classification_report(yy_test, knn_pred))\n",
        "print(\"\\n F1:\\n\", f1_score(yy_test, knn_pred))\n",
        "print(\"\\n Precision score is:\\n\", precision_score(yy_test, knn_pred))\n",
        "print(\"\\n Recall score is:\\n\", recall_score(yy_test, knn_pred))\n",
        "sn.heatmap(confusion_matrix(yy_test, knn_pred))"
      ]
    },
    {
      "cell_type": "markdown",
      "metadata": {
        "id": "5D0YfrpXfTX_"
      },
      "source": [
        "### Decision Tree"
      ]
    },
    {
      "cell_type": "code",
      "execution_count": null,
      "metadata": {
        "colab": {
          "base_uri": "https://localhost:8080/",
          "height": 654
        },
        "id": "RUBUyA9de_J6",
        "outputId": "7451227c-1103-45f8-b2c7-fae9b99b61d6"
      },
      "outputs": [
        {
          "name": "stdout",
          "output_type": "stream",
          "text": [
            "The accuracy of the Decision Tree classifier on training data is 100.00 %\n",
            "The accuracy of the Decision Tree classifier on test data is 97.91 %\n",
            "Decision Tree classification Report:\n",
            "               precision    recall  f1-score   support\n",
            "\n",
            "         0.0       0.99      0.99      0.99      1496\n",
            "         1.0       0.53      0.59      0.56        34\n",
            "\n",
            "    accuracy                           0.98      1530\n",
            "   macro avg       0.76      0.79      0.77      1530\n",
            "weighted avg       0.98      0.98      0.98      1530\n",
            "\n",
            "\n",
            " F1:\n",
            " 0.5555555555555555\n",
            "\n",
            " Precision score is:\n",
            " 0.5263157894736842\n",
            "\n",
            " Recall score is:\n",
            " 0.5882352941176471\n"
          ]
        },
        {
          "data": {
            "text/plain": [
              "<matplotlib.axes._subplots.AxesSubplot at 0x7f3faee04490>"
            ]
          },
          "execution_count": 13,
          "metadata": {},
          "output_type": "execute_result"
        },
        {
          "data": {
            "image/png": "[encoded data removed]",
            "text/plain": [
              "<Figure size 432x288 with 2 Axes>"
            ]
          },
          "metadata": {
            "needs_background": "light"
          },
          "output_type": "display_data"
        }
      ],
      "source": [
        "from sklearn import tree\n",
        "\n",
        "decision_tree = tree.DecisionTreeClassifier(criterion='gini')\n",
        "\n",
        "dt_pred = decision_tree.fit(x_train_std, yy_train)\n",
        "dt_pred = dt_pred.predict(x_test_std)\n",
        "\n",
        "print('The accuracy of the Decision Tree classifier on training data is {:.2f}'.format(decision_tree.score(x_train_std, yy_train)*100),\"%\")\n",
        "print('The accuracy of the Decision Tree classifier on test data is {:.2f}'.format(decision_tree.score(x_test_std, yy_test)*100),\"%\")\n",
        "\n",
        "print(\"Decision Tree classification Report:\\n\", classification_report(yy_test, dt_pred))\n",
        "print(\"\\n F1:\\n\", f1_score(yy_test, dt_pred))\n",
        "print(\"\\n Precision score is:\\n\", precision_score(yy_test, dt_pred))\n",
        "print(\"\\n Recall score is:\\n\", recall_score(yy_test, dt_pred))\n",
        "sn.heatmap(confusion_matrix(yy_test, dt_pred))"
      ]
    },
    {
      "cell_type": "markdown",
      "metadata": {
        "id": "5fTlInNffV4s"
      },
      "source": [
        "### XGBoost"
      ]
    },
    {
      "cell_type": "code",
      "execution_count": null,
      "metadata": {
        "colab": {
          "base_uri": "https://localhost:8080/",
          "height": 654
        },
        "id": "GYQSsYAAfKfd",
        "outputId": "a05b65a2-c475-421e-d4c2-b85adbd80f73"
      },
      "outputs": [
        {
          "name": "stdout",
          "output_type": "stream",
          "text": [
            "The accuracy of the XGBoost classifier on training data is 98.96 %\n",
            "The accuracy of the XGBoost classifier on test data is 98.37 %\n",
            "XG Boost classification Report:\n",
            "               precision    recall  f1-score   support\n",
            "\n",
            "         0.0       0.99      0.99      0.99      1496\n",
            "         1.0       0.65      0.59      0.62        34\n",
            "\n",
            "    accuracy                           0.98      1530\n",
            "   macro avg       0.82      0.79      0.80      1530\n",
            "weighted avg       0.98      0.98      0.98      1530\n",
            "\n",
            "\n",
            " F1:\n",
            " 0.6153846153846154\n",
            "\n",
            " Precision score is:\n",
            " 0.6451612903225806\n",
            "\n",
            " Recall score is:\n",
            " 0.5882352941176471\n"
          ]
        },
        {
          "data": {
            "text/plain": [
              "<matplotlib.axes._subplots.AxesSubplot at 0x7f3fb3966650>"
            ]
          },
          "execution_count": 14,
          "metadata": {},
          "output_type": "execute_result"
        },
        {
          "data": {
            "image/png": "[encoded data removed]",
            "text/plain": [
              "<Figure size 432x288 with 2 Axes>"
            ]
          },
          "metadata": {
            "needs_background": "light"
          },
          "output_type": "display_data"
        }
      ],
      "source": [
        "import xgboost as xgb\n",
        "\n",
        "xgb_clf = xgb.XGBClassifier()\n",
        "xgb_clf = xgb_clf.fit(x_train_std, yy_train)\n",
        "xgb_clf_pred = xgb_clf.predict(x_test_std)\n",
        "\n",
        "print('The accuracy of the XGBoost classifier on training data is {:.2f}'.format(xgb_clf.score(x_train_std, yy_train)*100),\"%\")\n",
        "print('The accuracy of the XGBoost classifier on test data is {:.2f}'.format(xgb_clf.score(x_test_std, yy_test)*100),\"%\")\n",
        "\n",
        "print(\"XG Boost classification Report:\\n\", classification_report(yy_test, xgb_clf_pred))\n",
        "print(\"\\n F1:\\n\", f1_score(yy_test, xgb_clf_pred))\n",
        "print(\"\\n Precision score is:\\n\", precision_score(yy_test, xgb_clf_pred))\n",
        "print(\"\\n Recall score is:\\n\", recall_score(yy_test, xgb_clf_pred))\n",
        "sn.heatmap(confusion_matrix(yy_test, xgb_clf_pred))"
      ]
    },
    {
      "cell_type": "markdown",
      "metadata": {
        "id": "gHSC-bZifryV"
      },
      "source": [
        "### Random Forest"
      ]
    },
    {
      "cell_type": "code",
      "execution_count": null,
      "metadata": {
        "colab": {
          "base_uri": "https://localhost:8080/",
          "height": 654
        },
        "id": "Iw-My0tgfncs",
        "outputId": "779da9ae-cb93-48bb-b93f-d8e1b6e43f8d"
      },
      "outputs": [
        {
          "name": "stdout",
          "output_type": "stream",
          "text": [
            "The accuracy of the Random Forest classifier on training data is 100.00 %\n",
            "The accuracy of the Random Forest classifier on test data is 98.89 %\n",
            "Random Forest classification Report:\n",
            "               precision    recall  f1-score   support\n",
            "\n",
            "         0.0       0.99      1.00      0.99      1496\n",
            "         1.0       0.81      0.65      0.72        34\n",
            "\n",
            "    accuracy                           0.99      1530\n",
            "   macro avg       0.90      0.82      0.86      1530\n",
            "weighted avg       0.99      0.99      0.99      1530\n",
            "\n",
            "\n",
            " F1:\n",
            " 0.7213114754098361\n",
            "\n",
            " Precision score is:\n",
            " 0.8148148148148148\n",
            "\n",
            " Recall score is:\n",
            " 0.6470588235294118\n"
          ]
        },
        {
          "data": {
            "text/plain": [
              "<matplotlib.axes._subplots.AxesSubplot at 0x7f3fa5c46750>"
            ]
          },
          "execution_count": 15,
          "metadata": {},
          "output_type": "execute_result"
        },
        {
          "data": {
            "image/png": "[encoded data removed]",
            "text/plain": [
              "<Figure size 432x288 with 2 Axes>"
            ]
          },
          "metadata": {
            "needs_background": "light"
          },
          "output_type": "display_data"
        }
      ],
      "source": [
        "from sklearn.ensemble import RandomForestClassifier\n",
        "\n",
        "random_forest = RandomForestClassifier()\n",
        "random_forest.fit(x_train_std, yy_train)\n",
        "r_forest_pred = random_forest.predict(x_test_std)\n",
        "\n",
        "print('The accuracy of the Random Forest classifier on training data is {:.2f}'.format(random_forest.score(x_train_std, yy_train)*100),\"%\")\n",
        "print('The accuracy of the Random Forest classifier on test data is {:.2f}'.format(random_forest.score(x_test_std, yy_test)*100),\"%\")\n",
        "\n",
        "print(\"Random Forest classification Report:\\n\", classification_report(yy_test, r_forest_pred))\n",
        "print(\"\\n F1:\\n\", f1_score(yy_test, r_forest_pred))\n",
        "print(\"\\n Precision score is:\\n\", precision_score(yy_test, r_forest_pred))\n",
        "print(\"\\n Recall score is:\\n\", recall_score(yy_test, r_forest_pred))\n",
        "sn.heatmap(confusion_matrix(yy_test, r_forest_pred))"
      ]
    },
    {
      "cell_type": "markdown",
      "metadata": {
        "id": "UJB-qjj1vbF-"
      },
      "source": [
        "### Simulating In-Field Testing"
      ]
    },
    {
      "cell_type": "code",
      "execution_count": null,
      "metadata": {
        "colab": {
          "base_uri": "https://localhost:8080/",
          "height": 1000
        },
        "id": "lfeKby9DvklE",
        "outputId": "11fa6200-00cc-44f0-8c75-876961a37d6f"
      },
      "outputs": [
        {
          "name": "stdout",
          "output_type": "stream",
          "text": [
            "The accuracy of the XGBoost classifier on test data is 97.66 %\n",
            "XG Boost classification Report:\n",
            "               precision    recall  f1-score   support\n",
            "\n",
            "         0.0       0.98      1.00      0.99       492\n",
            "         1.0       1.00      0.40      0.57        20\n",
            "\n",
            "    accuracy                           0.98       512\n",
            "   macro avg       0.99      0.70      0.78       512\n",
            "weighted avg       0.98      0.98      0.97       512\n",
            "\n",
            "\n",
            " F1:\n",
            " 0.5714285714285715\n",
            "\n",
            " Precision score is:\n",
            " 1.0\n",
            "\n",
            " Recall score is:\n",
            " 0.4\n",
            "The accuracy of the XGBoost classifier on test data is 100.00 %\n",
            "XG Boost classification Report:\n",
            "               precision    recall  f1-score   support\n",
            "\n",
            "         0.0       1.00      1.00      1.00       512\n",
            "\n",
            "    accuracy                           1.00       512\n",
            "   macro avg       1.00      1.00      1.00       512\n",
            "weighted avg       1.00      1.00      1.00       512\n",
            "\n",
            "\n",
            " F1:\n",
            " 0.0\n",
            "\n",
            " Precision score is:\n",
            " 0.0\n",
            "\n",
            " Recall score is:\n",
            " 0.0\n"
          ]
        },
        {
          "name": "stderr",
          "output_type": "stream",
          "text": [
            "/usr/local/lib/python3.7/dist-packages/sklearn/metrics/_classification.py:1580: UndefinedMetricWarning: F-score is ill-defined and being set to 0.0 due to no true nor predicted samples. Use `zero_division` parameter to control this behavior.\n",
            "  _warn_prf(average, \"true nor predicted\", \"F-score is\", len(true_sum))\n",
            "/usr/local/lib/python3.7/dist-packages/sklearn/metrics/_classification.py:1318: UndefinedMetricWarning: Precision is ill-defined and being set to 0.0 due to no predicted samples. Use `zero_division` parameter to control this behavior.\n",
            "  _warn_prf(average, modifier, msg_start, len(result))\n",
            "/usr/local/lib/python3.7/dist-packages/sklearn/metrics/_classification.py:1318: UndefinedMetricWarning: Recall is ill-defined and being set to 0.0 due to no true samples. Use `zero_division` parameter to control this behavior.\n",
            "  _warn_prf(average, modifier, msg_start, len(result))\n"
          ]
        },
        {
          "name": "stdout",
          "output_type": "stream",
          "text": [
            "The accuracy of the XGBoost classifier on test data is 100.00 %\n",
            "XG Boost classification Report:\n",
            "               precision    recall  f1-score   support\n",
            "\n",
            "         0.0       1.00      1.00      1.00       512\n",
            "\n",
            "    accuracy                           1.00       512\n",
            "   macro avg       1.00      1.00      1.00       512\n",
            "weighted avg       1.00      1.00      1.00       512\n",
            "\n",
            "\n",
            " F1:\n",
            " 0.0\n",
            "\n",
            " Precision score is:\n",
            " 0.0\n",
            "\n",
            " Recall score is:\n",
            " 0.0\n"
          ]
        },
        {
          "name": "stderr",
          "output_type": "stream",
          "text": [
            "/usr/local/lib/python3.7/dist-packages/sklearn/metrics/_classification.py:1580: UndefinedMetricWarning: F-score is ill-defined and being set to 0.0 due to no true nor predicted samples. Use `zero_division` parameter to control this behavior.\n",
            "  _warn_prf(average, \"true nor predicted\", \"F-score is\", len(true_sum))\n",
            "/usr/local/lib/python3.7/dist-packages/sklearn/metrics/_classification.py:1318: UndefinedMetricWarning: Precision is ill-defined and being set to 0.0 due to no predicted samples. Use `zero_division` parameter to control this behavior.\n",
            "  _warn_prf(average, modifier, msg_start, len(result))\n",
            "/usr/local/lib/python3.7/dist-packages/sklearn/metrics/_classification.py:1318: UndefinedMetricWarning: Recall is ill-defined and being set to 0.0 due to no true samples. Use `zero_division` parameter to control this behavior.\n",
            "  _warn_prf(average, modifier, msg_start, len(result))\n"
          ]
        },
        {
          "name": "stdout",
          "output_type": "stream",
          "text": [
            "The accuracy of the XGBoost classifier on test data is 100.00 %\n",
            "XG Boost classification Report:\n",
            "               precision    recall  f1-score   support\n",
            "\n",
            "         0.0       1.00      1.00      1.00       512\n",
            "\n",
            "    accuracy                           1.00       512\n",
            "   macro avg       1.00      1.00      1.00       512\n",
            "weighted avg       1.00      1.00      1.00       512\n",
            "\n",
            "\n",
            " F1:\n",
            " 0.0\n",
            "\n",
            " Precision score is:\n",
            " 0.0\n",
            "\n",
            " Recall score is:\n",
            " 0.0\n"
          ]
        },
        {
          "name": "stderr",
          "output_type": "stream",
          "text": [
            "/usr/local/lib/python3.7/dist-packages/sklearn/metrics/_classification.py:1580: UndefinedMetricWarning: F-score is ill-defined and being set to 0.0 due to no true nor predicted samples. Use `zero_division` parameter to control this behavior.\n",
            "  _warn_prf(average, \"true nor predicted\", \"F-score is\", len(true_sum))\n",
            "/usr/local/lib/python3.7/dist-packages/sklearn/metrics/_classification.py:1318: UndefinedMetricWarning: Precision is ill-defined and being set to 0.0 due to no predicted samples. Use `zero_division` parameter to control this behavior.\n",
            "  _warn_prf(average, modifier, msg_start, len(result))\n",
            "/usr/local/lib/python3.7/dist-packages/sklearn/metrics/_classification.py:1318: UndefinedMetricWarning: Recall is ill-defined and being set to 0.0 due to no true samples. Use `zero_division` parameter to control this behavior.\n",
            "  _warn_prf(average, modifier, msg_start, len(result))\n"
          ]
        },
        {
          "name": "stdout",
          "output_type": "stream",
          "text": [
            "The accuracy of the XGBoost classifier on test data is 96.29 %\n",
            "XG Boost classification Report:\n",
            "               precision    recall  f1-score   support\n",
            "\n",
            "         0.0       0.98      0.98      0.98       492\n",
            "         1.0       0.52      0.55      0.54        20\n",
            "\n",
            "    accuracy                           0.96       512\n",
            "   macro avg       0.75      0.76      0.76       512\n",
            "weighted avg       0.96      0.96      0.96       512\n",
            "\n",
            "\n",
            " F1:\n",
            " 0.5365853658536585\n",
            "\n",
            " Precision score is:\n",
            " 0.5238095238095238\n",
            "\n",
            " Recall score is:\n",
            " 0.55\n",
            "The accuracy of the XGBoost classifier on test data is 100.00 %\n",
            "XG Boost classification Report:\n",
            "               precision    recall  f1-score   support\n",
            "\n",
            "         0.0       1.00      1.00      1.00       512\n",
            "\n",
            "    accuracy                           1.00       512\n",
            "   macro avg       1.00      1.00      1.00       512\n",
            "weighted avg       1.00      1.00      1.00       512\n",
            "\n",
            "\n",
            " F1:\n",
            " 0.0\n",
            "\n",
            " Precision score is:\n",
            " 0.0\n",
            "\n",
            " Recall score is:\n",
            " 0.0\n"
          ]
        },
        {
          "name": "stderr",
          "output_type": "stream",
          "text": [
            "/usr/local/lib/python3.7/dist-packages/sklearn/metrics/_classification.py:1580: UndefinedMetricWarning: F-score is ill-defined and being set to 0.0 due to no true nor predicted samples. Use `zero_division` parameter to control this behavior.\n",
            "  _warn_prf(average, \"true nor predicted\", \"F-score is\", len(true_sum))\n",
            "/usr/local/lib/python3.7/dist-packages/sklearn/metrics/_classification.py:1318: UndefinedMetricWarning: Precision is ill-defined and being set to 0.0 due to no predicted samples. Use `zero_division` parameter to control this behavior.\n",
            "  _warn_prf(average, modifier, msg_start, len(result))\n",
            "/usr/local/lib/python3.7/dist-packages/sklearn/metrics/_classification.py:1318: UndefinedMetricWarning: Recall is ill-defined and being set to 0.0 due to no true samples. Use `zero_division` parameter to control this behavior.\n",
            "  _warn_prf(average, modifier, msg_start, len(result))\n"
          ]
        },
        {
          "name": "stdout",
          "output_type": "stream",
          "text": [
            "The accuracy of the XGBoost classifier on test data is 97.27 %\n",
            "XG Boost classification Report:\n",
            "               precision    recall  f1-score   support\n",
            "\n",
            "         0.0       0.97      1.00      0.99       499\n",
            "         1.0       0.00      0.00      0.00        13\n",
            "\n",
            "    accuracy                           0.97       512\n",
            "   macro avg       0.49      0.50      0.49       512\n",
            "weighted avg       0.95      0.97      0.96       512\n",
            "\n",
            "\n",
            " F1:\n",
            " 0.0\n",
            "\n",
            " Precision score is:\n",
            " 0.0\n",
            "\n",
            " Recall score is:\n",
            " 0.0\n",
            "The accuracy of the XGBoost classifier on test data is 96.09 %\n",
            "XG Boost classification Report:\n",
            "               precision    recall  f1-score   support\n",
            "\n",
            "         0.0       0.96      1.00      0.98       493\n",
            "         1.0       0.00      0.00      0.00        19\n",
            "\n",
            "    accuracy                           0.96       512\n",
            "   macro avg       0.48      0.50      0.49       512\n",
            "weighted avg       0.93      0.96      0.94       512\n",
            "\n",
            "\n",
            " F1:\n",
            " 0.0\n",
            "\n",
            " Precision score is:\n",
            " 0.0\n",
            "\n",
            " Recall score is:\n",
            " 0.0\n",
            "The accuracy of the XGBoost classifier on test data is 97.27 %\n",
            "XG Boost classification Report:\n",
            "               precision    recall  f1-score   support\n",
            "\n",
            "         0.0       0.98      0.99      0.99       498\n",
            "         1.0       0.50      0.21      0.30        14\n",
            "\n",
            "    accuracy                           0.97       512\n",
            "   macro avg       0.74      0.60      0.64       512\n",
            "weighted avg       0.97      0.97      0.97       512\n",
            "\n",
            "\n",
            " F1:\n",
            " 0.3\n",
            "\n",
            " Precision score is:\n",
            " 0.5\n",
            "\n",
            " Recall score is:\n",
            " 0.21428571428571427\n",
            "The accuracy of the XGBoost classifier on test data is 96.34 %\n",
            "XG Boost classification Report:\n",
            "               precision    recall  f1-score   support\n",
            "\n",
            "         0.0       0.97      0.99      0.98       463\n",
            "         1.0       0.74      0.59      0.65        29\n",
            "\n",
            "    accuracy                           0.96       492\n",
            "   macro avg       0.86      0.79      0.82       492\n",
            "weighted avg       0.96      0.96      0.96       492\n",
            "\n",
            "\n",
            " F1:\n",
            " 0.6538461538461539\n",
            "\n",
            " Precision score is:\n",
            " 0.7391304347826086\n",
            "\n",
            " Recall score is:\n",
            " 0.5862068965517241\n"
          ]
        },
        {
          "data": {
            "image/png": "[encoded data removed]",
            "text/plain": [
              "<Figure size 432x288 with 11 Axes>"
            ]
          },
          "metadata": {
            "needs_background": "light"
          },
          "output_type": "display_data"
        }
      ],
      "source": [
        "df = pd.read_csv(\"https://raw.githubusercontent.com/strem078/IAI5101_Project/main/Data/Data_Raw.csv\")\n",
        "import xgboost as xgb\n",
        "\n",
        "# Preprocessing steps\n",
        "df.fillna(0,inplace=True)\n",
        "df['Voltage_1'] = df['Voltage_1']/5.0\n",
        "df['Voltage_2'] = df['Voltage_2']/5.0\n",
        "df['P_x'] = df['P_x']/(2.0/5.0*1024)\n",
        "df['P_y'] = df['P_y']/(2.0/5.0*1024)\n",
        "df['dPx_dV'] = df['dPx_dV']/(2.0/5.0*1024)\n",
        "df['dPy_dV'] = df['dPy_dV']/(2.0/5.0*1024)\n",
        "df['S1'] = (df['S1']+1)/2\n",
        "df['dS1_dV'] = (df['dS1_dV']+1)/2\n",
        "\n",
        "# Cross Validation among 10 sets\n",
        "f_1 = []\n",
        "precision = []\n",
        "recall = []\n",
        "\n",
        "data_sz = 512\n",
        "slices = range(0,5120,data_sz)\n",
        "for start in slices:\n",
        "  end = start+data_sz\n",
        "  x = df[df.columns[2:-4]]\n",
        "  x_train = pd.concat([x[x.columns][:start], x[x.columns][end:]])\n",
        "  x_test = x[x.columns][start:end]\n",
        "  y_train = pd.concat([df[\"Mode_Locked\"][:start], df[\"Mode_Locked\"][end:]])\n",
        "  y_test = df[\"Mode_Locked\"][start:end]\n",
        "\n",
        "  xgb_clf = xgb.XGBClassifier()\n",
        "  xgb_clf = xgb_clf.fit(x_train, y_train)\n",
        "  xgb_clf_pred = xgb_clf.predict(x_test)\n",
        "\n",
        "  print('The accuracy of the XGBoost classifier on test data is {:.2f}'.format(xgb_clf.score(x_test, y_test)*100),\"%\")\n",
        "\n",
        "  print(\"XG Boost classification Report:\\n\", classification_report(y_test, xgb_clf_pred))\n",
        "  print(\"\\n F1:\\n\", f1_score(y_test, xgb_clf_pred))\n",
        "  print(\"\\n Precision score is:\\n\", precision_score(y_test, xgb_clf_pred))\n",
        "  print(\"\\n Recall score is:\\n\", recall_score(y_test, xgb_clf_pred))\n",
        "  sn.heatmap(confusion_matrix(y_test, xgb_clf_pred))"
      ]
    },
    {
      "cell_type": "markdown",
      "metadata": {
        "id": "mQJjJ-iECzv_"
      },
      "source": [
        "# Deep Learning Using Keras"
      ]
    },
    {
      "cell_type": "code",
      "execution_count": null,
      "metadata": {
        "id": "KWT2keDBCDBI"
      },
      "outputs": [],
      "source": [
        "from tensorflow.keras.models import Sequential\n",
        "\n",
        "from tensorflow.keras.layers import Dense\n",
        "\n",
        "from tensorflow.keras.layers import LSTM\n",
        "\n",
        "from tensorflow.keras.layers import Dropout\n",
        "\n",
        "#Initializing our recurrent neural network\n",
        "\n",
        "rnn = Sequential()\n",
        "\n",
        "#Adding our first LSTM layer\n",
        "\n",
        "rnn.add(LSTM(units = 45, return_sequences = True, input_shape = (x_training_data.shape[1], 1)))\n",
        "\n",
        "#Perform some dropout regularization\n",
        "\n",
        "rnn.add(Dropout(0.2))\n",
        "\n",
        "#Adding three more LSTM layers with dropout regularization\n",
        "\n",
        "for i in [True, True, False]:\n",
        "\n",
        "    rnn.add(LSTM(units = 45, return_sequences = i))\n",
        "\n",
        "    rnn.add(Dropout(0.2))\n",
        "\n",
        "#(Original code for the three additional LSTM layers)\n",
        "\n",
        "# rnn.add(LSTM(units = 45, return_sequences = True))\n",
        "\n",
        "# rnn.add(Dropout(0.2))\n",
        "\n",
        "# rnn.add(LSTM(units = 45, return_sequences = True))\n",
        "\n",
        "# rnn.add(Dropout(0.2))\n",
        "\n",
        "# rnn.add(LSTM(units = 45))\n",
        "\n",
        "# rnn.add(Dropout(0.2))\n",
        "\n",
        "#Adding our output layer\n",
        "\n",
        "rnn.add(Dense(units = 1))\n",
        "\n",
        "#Compiling the recurrent neural network\n",
        "\n",
        "rnn.compile(optimizer = 'adam', loss = 'mean_squared_error')\n",
        "g = sns.countplot(df['Mode_Locked'])\n",
        "g.set_xticklabels(['Negative','Positive'])\n",
        "plt.show()"
      ]
    },
    {
      "cell_type": "code",
      "execution_count": null,
      "metadata": {
        "id": "9J3pDnKUHERu"
      },
      "outputs": [],
      "source": []
    },
    {
      "cell_type": "markdown",
      "metadata": {
        "id": "JlLSM6JHAB70"
      },
      "source": []
    },
    {
      "cell_type": "code",
      "execution_count": null,
      "metadata": {
        "id": "1UH35A4VACVi"
      },
      "outputs": [],
      "source": [
        "import tensorflow as tf\n",
        "\n",
        "model = tf.keras.models.Sequential()\n",
        "Dense = tf.keras.layers.Dense\n",
        "Dropout = tf.keras.layers.Dropout\n",
        "LSTM = tf.keras.layers.LSTM\n",
        "\n",
        "\n",
        "\n",
        "model.add(LSTM(256, activation='relu', return_sequences=True))\n",
        "model.add(Dropout(0.2))\n",
        "model.add(LSTM(256, activation='relu'))\n",
        "model.add(Dropout(0.1))\n",
        "model.add(Dense(32, activation='relu'))\n",
        "model.add(Dropout(0.2))\n",
        "model.add(Dense(10, activation='softmax'))\n",
        "\n",
        "optimizer = tf.keras.optimizers.Adam(lr=1e-4, decay=1e-6)\n",
        "\n",
        "# Compile model\n",
        "model.compile(\n",
        "   loss='sparse_categorical_crossentropy',\n",
        "   optimizer=optimizer,\n",
        "   metrics=['accuracy'],\n",
        ")\n",
        "\n",
        "# The specification of loss=’sparse_categorical_crossentropy’ is very important here as our targets are # integers and not one-hot encoded categories.\n",
        "model.fit(x_train_std,\n",
        "   yy_train,\n",
        "   epochs=4,\n",
        "   validation_data=(x_test, y_test))"
      ]
    },
    {
      "cell_type": "code",
      "execution_count": null,
      "metadata": {
        "id": "GRUaXy-YATLX"
      },
      "outputs": [],
      "source": [
        "from tensorflow.keras.models import Sequential\n",
        "from tensorflow.keras.layers import Dense\n",
        "from tensorflow.keras.layers import LSTM\n",
        "from tensorflow.keras.layers import Dropout\n",
        "\n",
        "#Initializing our recurrent neural network\n",
        "\n",
        "rnn = Sequential()\n",
        "\n",
        "#Adding our first LSTM layer\n",
        "\n",
        "rnn.add(LSTM(units = 45, return_sequences = True, input_shape = (x_train_std.shape[1], 1)))\n",
        "\n",
        "#Perform some dropout regularization\n",
        "\n",
        "rnn.add(Dropout(0.2))\n",
        "\n",
        "#Adding three more LSTM layers with dropout regularization\n",
        "\n",
        "for i in [True, True, False]:\n",
        "\n",
        "    rnn.add(LSTM(units = 45, return_sequences = i))\n",
        "\n",
        "    rnn.add(Dropout(0.2))\n",
        "\n",
        "\n",
        "\n",
        "#Adding our output layer\n",
        "\n",
        "rnn.add(Dense(units = 1))\n",
        "\n",
        "#Compiling the recurrent neural network\n",
        "\n",
        "rnn.compile(optimizer = 'adam', loss = 'mean_squared_error')\n"
      ]
    },
    {
      "cell_type": "code",
      "execution_count": null,
      "metadata": {
        "colab": {
          "base_uri": "https://localhost:8080/"
        },
        "id": "_ZmgGrNnLXNq",
        "outputId": "edb27ce1-6518-4d63-a66a-1053cd62a53e"
      },
      "outputs": [
        {
          "name": "stdout",
          "output_type": "stream",
          "text": [
            "Epoch 1/100\n",
            "112/112 [==============================] - 12s 18ms/step - loss: 0.0224\n",
            "Epoch 2/100\n",
            "112/112 [==============================] - 2s 18ms/step - loss: 0.0222\n",
            "Epoch 3/100\n",
            "112/112 [==============================] - 2s 18ms/step - loss: 0.0223\n",
            "Epoch 4/100\n",
            "112/112 [==============================] - 2s 18ms/step - loss: 0.0222\n",
            "Epoch 5/100\n",
            "112/112 [==============================] - 2s 17ms/step - loss: 0.0223\n",
            "Epoch 6/100\n",
            "112/112 [==============================] - 2s 18ms/step - loss: 0.0222\n",
            "Epoch 7/100\n",
            "112/112 [==============================] - 2s 18ms/step - loss: 0.0223\n",
            "Epoch 8/100\n",
            "112/112 [==============================] - 2s 18ms/step - loss: 0.0223\n",
            "Epoch 9/100\n",
            "112/112 [==============================] - 2s 18ms/step - loss: 0.0223\n",
            "Epoch 10/100\n",
            "112/112 [==============================] - 2s 18ms/step - loss: 0.0222\n",
            "Epoch 11/100\n",
            "112/112 [==============================] - 2s 18ms/step - loss: 0.0222\n",
            "Epoch 12/100\n",
            "112/112 [==============================] - 2s 17ms/step - loss: 0.0222\n",
            "Epoch 13/100\n",
            "112/112 [==============================] - 2s 17ms/step - loss: 0.0222\n",
            "Epoch 14/100\n",
            "112/112 [==============================] - 2s 18ms/step - loss: 0.0222\n",
            "Epoch 15/100\n",
            "112/112 [==============================] - 2s 17ms/step - loss: 0.0222\n",
            "Epoch 16/100\n",
            "112/112 [==============================] - 2s 18ms/step - loss: 0.0222\n",
            "Epoch 17/100\n",
            "112/112 [==============================] - 2s 18ms/step - loss: 0.0221\n",
            "Epoch 18/100\n",
            "112/112 [==============================] - 2s 18ms/step - loss: 0.0222\n",
            "Epoch 19/100\n",
            "112/112 [==============================] - 2s 18ms/step - loss: 0.0221\n",
            "Epoch 20/100\n",
            "112/112 [==============================] - 2s 18ms/step - loss: 0.0221\n",
            "Epoch 21/100\n",
            "112/112 [==============================] - 2s 18ms/step - loss: 0.0221\n",
            "Epoch 22/100\n",
            "112/112 [==============================] - 2s 18ms/step - loss: 0.0220\n",
            "Epoch 23/100\n",
            "112/112 [==============================] - 2s 18ms/step - loss: 0.0220\n",
            "Epoch 24/100\n",
            "112/112 [==============================] - 2s 18ms/step - loss: 0.0219\n",
            "Epoch 25/100\n",
            "112/112 [==============================] - 2s 17ms/step - loss: 0.0219\n",
            "Epoch 26/100\n",
            "112/112 [==============================] - 2s 18ms/step - loss: 0.0219\n",
            "Epoch 27/100\n",
            "112/112 [==============================] - 2s 18ms/step - loss: 0.0220\n",
            "Epoch 28/100\n",
            "112/112 [==============================] - 2s 18ms/step - loss: 0.0219\n",
            "Epoch 29/100\n",
            "112/112 [==============================] - 2s 18ms/step - loss: 0.0218\n",
            "Epoch 30/100\n",
            "112/112 [==============================] - 2s 18ms/step - loss: 0.0218\n",
            "Epoch 31/100\n",
            "112/112 [==============================] - 2s 18ms/step - loss: 0.0219\n",
            "Epoch 32/100\n",
            "112/112 [==============================] - 2s 18ms/step - loss: 0.0219\n",
            "Epoch 33/100\n",
            "112/112 [==============================] - 2s 18ms/step - loss: 0.0218\n",
            "Epoch 34/100\n",
            "112/112 [==============================] - 2s 18ms/step - loss: 0.0218\n",
            "Epoch 35/100\n",
            "112/112 [==============================] - 2s 17ms/step - loss: 0.0218\n",
            "Epoch 36/100\n",
            "112/112 [==============================] - 3s 24ms/step - loss: 0.0217\n",
            "Epoch 37/100\n",
            "112/112 [==============================] - 2s 18ms/step - loss: 0.0217\n",
            "Epoch 38/100\n",
            "112/112 [==============================] - 2s 18ms/step - loss: 0.0215\n",
            "Epoch 39/100\n",
            "112/112 [==============================] - 2s 18ms/step - loss: 0.0216\n",
            "Epoch 40/100\n",
            "112/112 [==============================] - 3s 23ms/step - loss: 0.0215\n",
            "Epoch 41/100\n",
            "112/112 [==============================] - 2s 18ms/step - loss: 0.0216\n",
            "Epoch 42/100\n",
            "112/112 [==============================] - 2s 17ms/step - loss: 0.0214\n",
            "Epoch 43/100\n",
            "112/112 [==============================] - 2s 18ms/step - loss: 0.0214\n",
            "Epoch 44/100\n",
            "112/112 [==============================] - 2s 18ms/step - loss: 0.0213\n",
            "Epoch 45/100\n",
            "112/112 [==============================] - 2s 18ms/step - loss: 0.0211\n",
            "Epoch 46/100\n",
            "112/112 [==============================] - 2s 18ms/step - loss: 0.0214\n",
            "Epoch 47/100\n",
            "112/112 [==============================] - 2s 17ms/step - loss: 0.0213\n",
            "Epoch 48/100\n",
            "112/112 [==============================] - 2s 18ms/step - loss: 0.0209\n",
            "Epoch 49/100\n",
            "112/112 [==============================] - 2s 18ms/step - loss: 0.0212\n",
            "Epoch 50/100\n",
            "112/112 [==============================] - 2s 19ms/step - loss: 0.0209\n",
            "Epoch 51/100\n",
            "112/112 [==============================] - 2s 18ms/step - loss: 0.0210\n",
            "Epoch 52/100\n",
            "112/112 [==============================] - 2s 18ms/step - loss: 0.0207\n",
            "Epoch 53/100\n",
            "112/112 [==============================] - 2s 18ms/step - loss: 0.0210\n",
            "Epoch 54/100\n",
            "112/112 [==============================] - 2s 19ms/step - loss: 0.0211\n",
            "Epoch 55/100\n",
            "112/112 [==============================] - 2s 19ms/step - loss: 0.0207\n",
            "Epoch 56/100\n",
            "112/112 [==============================] - 2s 18ms/step - loss: 0.0220\n",
            "Epoch 57/100\n",
            "112/112 [==============================] - 2s 18ms/step - loss: 0.0207\n",
            "Epoch 58/100\n",
            "112/112 [==============================] - 2s 18ms/step - loss: 0.0210\n",
            "Epoch 59/100\n",
            "112/112 [==============================] - 2s 18ms/step - loss: 0.0207\n",
            "Epoch 60/100\n",
            "112/112 [==============================] - 2s 18ms/step - loss: 0.0200\n",
            "Epoch 61/100\n",
            "112/112 [==============================] - 2s 19ms/step - loss: 0.0202\n",
            "Epoch 62/100\n",
            "112/112 [==============================] - 2s 17ms/step - loss: 0.0211\n",
            "Epoch 63/100\n",
            "112/112 [==============================] - 2s 18ms/step - loss: 0.0207\n",
            "Epoch 64/100\n",
            "112/112 [==============================] - 2s 17ms/step - loss: 0.0203\n",
            "Epoch 65/100\n",
            "112/112 [==============================] - 2s 18ms/step - loss: 0.0196\n",
            "Epoch 66/100\n",
            "112/112 [==============================] - 2s 18ms/step - loss: 0.0191\n",
            "Epoch 67/100\n",
            "112/112 [==============================] - 2s 18ms/step - loss: 0.0200\n",
            "Epoch 68/100\n",
            "112/112 [==============================] - 2s 19ms/step - loss: 0.0202\n",
            "Epoch 69/100\n",
            "112/112 [==============================] - 3s 29ms/step - loss: 0.0196\n",
            "Epoch 70/100\n",
            "112/112 [==============================] - 2s 18ms/step - loss: 0.0193\n",
            "Epoch 71/100\n",
            "112/112 [==============================] - 2s 18ms/step - loss: 0.0186\n",
            "Epoch 72/100\n",
            "112/112 [==============================] - 2s 18ms/step - loss: 0.0190\n",
            "Epoch 73/100\n",
            "112/112 [==============================] - 2s 18ms/step - loss: 0.0203\n",
            "Epoch 74/100\n",
            "112/112 [==============================] - 2s 18ms/step - loss: 0.0190\n",
            "Epoch 75/100\n",
            "112/112 [==============================] - 3s 25ms/step - loss: 0.0182\n",
            "Epoch 76/100\n",
            "112/112 [==============================] - 3s 25ms/step - loss: 0.0185\n",
            "Epoch 77/100\n",
            "112/112 [==============================] - 2s 18ms/step - loss: 0.0187\n",
            "Epoch 78/100\n",
            "112/112 [==============================] - 2s 18ms/step - loss: 0.0174\n",
            "Epoch 79/100\n",
            "112/112 [==============================] - 2s 17ms/step - loss: 0.0182\n",
            "Epoch 80/100\n",
            "112/112 [==============================] - 2s 18ms/step - loss: 0.0177\n",
            "Epoch 81/100\n",
            "112/112 [==============================] - 2s 18ms/step - loss: 0.0183\n",
            "Epoch 82/100\n",
            "112/112 [==============================] - 2s 18ms/step - loss: 0.0177\n",
            "Epoch 83/100\n",
            "112/112 [==============================] - 2s 18ms/step - loss: 0.0193\n",
            "Epoch 84/100\n",
            "112/112 [==============================] - 2s 18ms/step - loss: 0.0173\n",
            "Epoch 85/100\n",
            "112/112 [==============================] - 2s 18ms/step - loss: 0.0166\n",
            "Epoch 86/100\n",
            "112/112 [==============================] - 2s 17ms/step - loss: 0.0175\n",
            "Epoch 87/100\n",
            "112/112 [==============================] - 2s 18ms/step - loss: 0.0176\n",
            "Epoch 88/100\n",
            "112/112 [==============================] - 2s 18ms/step - loss: 0.0172\n",
            "Epoch 89/100\n",
            "112/112 [==============================] - 2s 18ms/step - loss: 0.0169\n",
            "Epoch 90/100\n",
            "112/112 [==============================] - 2s 18ms/step - loss: 0.0171\n",
            "Epoch 91/100\n",
            "112/112 [==============================] - 2s 17ms/step - loss: 0.0177\n",
            "Epoch 92/100\n",
            "112/112 [==============================] - 2s 18ms/step - loss: 0.0169\n",
            "Epoch 93/100\n",
            "112/112 [==============================] - 2s 18ms/step - loss: 0.0164\n",
            "Epoch 94/100\n",
            "112/112 [==============================] - 2s 18ms/step - loss: 0.0168\n",
            "Epoch 95/100\n",
            "112/112 [==============================] - 2s 18ms/step - loss: 0.0177\n",
            "Epoch 96/100\n",
            "112/112 [==============================] - 2s 18ms/step - loss: 0.0178\n",
            "Epoch 97/100\n",
            "112/112 [==============================] - 2s 18ms/step - loss: 0.0158\n",
            "Epoch 98/100\n",
            "112/112 [==============================] - 2s 18ms/step - loss: 0.0162\n",
            "Epoch 99/100\n",
            "112/112 [==============================] - 2s 18ms/step - loss: 0.0168\n",
            "Epoch 100/100\n",
            "112/112 [==============================] - 2s 18ms/step - loss: 0.0161\n"
          ]
        },
        {
          "data": {
            "text/plain": [
              "<keras.callbacks.History at 0x7f3fa06da890>"
            ]
          },
          "execution_count": 22,
          "metadata": {},
          "output_type": "execute_result"
        }
      ],
      "source": [
        "rnn.fit(x_train_std, yy_train, epochs = 100, batch_size = 32)\n"
      ]
    },
    {
      "cell_type": "code",
      "execution_count": null,
      "metadata": {
        "colab": {
          "base_uri": "https://localhost:8080/",
          "height": 283
        },
        "id": "GbiA7JinL1db",
        "outputId": "91959348-8a32-4481-e91b-af1c9a048d99"
      },
      "outputs": [
        {
          "data": {
            "text/plain": [
              "[<matplotlib.lines.Line2D at 0x7f3fa10c4590>]"
            ]
          },
          "execution_count": 27,
          "metadata": {},
          "output_type": "execute_result"
        },
        {
          "data": {
            "image/png": "[encoded data removed]",
            "text/plain": [
              "<Figure size 432x288 with 1 Axes>"
            ]
          },
          "metadata": {
            "needs_background": "light"
          },
          "output_type": "display_data"
        }
      ],
      "source": [
        "predictions = rnn.predict(x_test_std)\n",
        "plt.clf() #This clears the old plot from our canvas\n",
        "\n",
        "plt.plot(predictions)"
      ]
    }
  ],
  "metadata": {
    "colab": {
      "collapsed_sections": [],
      "name": "IAI5101_Group3_Project.ipynb",
      "provenance": []
    },
    "kernelspec": {
      "display_name": "Python 3",
      "name": "python3"
    },
    "language_info": {
      "name": "python"
    }
  },
  "nbformat": 4,
  "nbformat_minor": 0
}
